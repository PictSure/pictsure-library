{
 "cells": [
  {
   "cell_type": "code",
   "execution_count": 3,
   "metadata": {},
   "outputs": [],
   "source": [
    "import os\n",
    "import random\n",
    "from PIL import Image\n",
    "import torch\n",
    "from PictSure import PictSure"
   ]
  },
  {
   "cell_type": "code",
   "execution_count": 4,
   "metadata": {},
   "outputs": [],
   "source": [
    "ROOT_DIR = \"./BrainTumor_preprocessed/\"\n",
    "NUM_CONTEXT_IMAGES = 5\n",
    "IMAGE_SIZE = 224\n",
    "DEVICE = torch.device(\"cuda\" if torch.cuda.is_available() else \"mps\" if torch.backends.mps.is_available() else \"cpu\")"
   ]
  },
  {
   "cell_type": "code",
   "execution_count": 5,
   "metadata": {},
   "outputs": [],
   "source": [
    "# Load context/reference images\n",
    "def load_reference_images(path):\n",
    "    label_map = {}\n",
    "    context_images, context_labels = [], []\n",
    "    \n",
    "    folders = sorted(os.listdir(path))\n",
    "    for label, folder in enumerate(folders):\n",
    "        folder_path = os.path.join(path, folder)\n",
    "        all_images = os.listdir(folder_path)\n",
    "        chosen = random.sample(all_images, NUM_CONTEXT_IMAGES + 1)  # +1 for extra test image\n",
    "        ref_imgs = chosen[:-1]\n",
    "        test_img = chosen[-1]\n",
    "\n",
    "        for img_name in ref_imgs:\n",
    "            img_path = os.path.join(folder_path, img_name)\n",
    "            img = Image.open(img_path).convert(\"RGB\")\n",
    "            context_images.append(img)\n",
    "            context_labels.append(label)\n",
    "\n",
    "        label_map[folder] = label\n",
    "\n",
    "    return context_images, context_labels, label_map, chosen"
   ]
  },
  {
   "cell_type": "code",
   "execution_count": 6,
   "metadata": {},
   "outputs": [],
   "source": [
    "# Pick a single test image (one left out per class)\n",
    "def pick_test_image(path, label_map, chosen):\n",
    "    all_images = []\n",
    "    all_labels = []\n",
    "    \n",
    "    for folder, label in label_map.items():\n",
    "        folder_path = os.path.join(path, folder)\n",
    "        images = [f for f in os.listdir(folder_path) if f not in chosen]\n",
    "        for img_name in images:\n",
    "            img_path = os.path.join(folder_path, img_name)\n",
    "            all_images.append(img_path)\n",
    "            all_labels.append(label)\n",
    "    \n",
    "    if all_images:\n",
    "        random_index = random.randint(0, len(all_images) - 1)\n",
    "        img_path = all_images[random_index]\n",
    "        label = all_labels[random_index]\n",
    "        img = Image.open(img_path).convert(\"RGB\")\n",
    "        return img, label"
   ]
  },
  {
   "cell_type": "code",
   "execution_count": 7,
   "metadata": {},
   "outputs": [
    {
     "name": "stdout",
     "output_type": "stream",
     "text": [
      "Using device: mps\n"
     ]
    },
    {
     "name": "stderr",
     "output_type": "stream",
     "text": [
      "/Users/cowolff/miniconda3/envs/pictSureTest/lib/python3.10/site-packages/torch/nn/modules/transformer.py:382: UserWarning: enable_nested_tensor is True, but self.use_nested_tensor is False because encoder_layer.norm_first was True\n",
      "  warnings.warn(\n"
     ]
    },
    {
     "name": "stdout",
     "output_type": "stream",
     "text": [
      "Weights already downloaded. Skipping download.\n",
      "Weights successfully loaded into the model.\n"
     ]
    }
   ],
   "source": [
    "# Load encoder and duplicate it for PictSure\n",
    "print(f\"Using device: {DEVICE}\")\n",
    "\n",
    "pictsure_model = PictSure(\n",
    "    embedding=\"vit\",\n",
    "    device=DEVICE,\n",
    "    pretrained=True\n",
    ")"
   ]
  },
  {
   "cell_type": "code",
   "execution_count": null,
   "metadata": {},
   "outputs": [],
   "source": [
    "# or pull our pre-trained models from HuggingFace\n",
    "pictsure_model = PictSure.from_pretrained(\"pictsure/pictsure-vit\")"
   ]
  },
  {
   "cell_type": "code",
   "execution_count": 8,
   "metadata": {},
   "outputs": [
    {
     "name": "stdout",
     "output_type": "stream",
     "text": [
      "Accuracy over 200 predictions: 67.5%\n"
     ]
    }
   ],
   "source": [
    "results = []\n",
    "for i in range(200):\n",
    "    # Load references and test image\n",
    "    context_imgs, context_lbls, label_map, chosen = load_reference_images(ROOT_DIR)\n",
    "    test_img, test_lbl = pick_test_image(ROOT_DIR, label_map, chosen)\n",
    "    # Predict\n",
    "    with torch.no_grad():\n",
    "        pictsure_model.set_context_images(context_imgs, context_lbls)\n",
    "        pred = pictsure_model.predict(test_img)\n",
    "\n",
    "    results.append((pred == test_lbl))\n",
    "\n",
    "accuracy = sum(results) / len(results) * 100\n",
    "print(f\"Accuracy over {len(results)} predictions: {accuracy:.1f}%\")"
   ]
  }
 ],
 "metadata": {
  "kernelspec": {
   "display_name": "pictSureTest",
   "language": "python",
   "name": "python3"
  },
  "language_info": {
   "codemirror_mode": {
    "name": "ipython",
    "version": 3
   },
   "file_extension": ".py",
   "mimetype": "text/x-python",
   "name": "python",
   "nbconvert_exporter": "python",
   "pygments_lexer": "ipython3",
   "version": "3.10.13"
  }
 },
 "nbformat": 4,
 "nbformat_minor": 2
}
