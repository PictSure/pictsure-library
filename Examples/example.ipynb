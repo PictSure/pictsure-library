{
 "cells": [
  {
   "cell_type": "code",
   "execution_count": 1,
   "metadata": {},
   "outputs": [
    {
     "name": "stderr",
     "output_type": "stream",
     "text": [
      "/Users/cowolff/miniconda3/envs/cwi/lib/python3.11/site-packages/tqdm/auto.py:21: TqdmWarning: IProgress not found. Please update jupyter and ipywidgets. See https://ipywidgets.readthedocs.io/en/stable/user_install.html\n",
      "  from .autonotebook import tqdm as notebook_tqdm\n"
     ]
    }
   ],
   "source": [
    "import os\n",
    "import random\n",
    "from PIL import Image\n",
    "import torch\n",
    "from PictSure import PictSure"
   ]
  },
  {
   "cell_type": "code",
   "execution_count": 2,
   "metadata": {},
   "outputs": [],
   "source": [
    "ROOT_DIR = \"./BrainTumor_preprocessed/\"\n",
    "NUM_CONTEXT_IMAGES = 5\n",
    "IMAGE_SIZE = 224\n",
    "DEVICE = torch.device(\"cuda\" if torch.cuda.is_available() else \"mps\" if torch.backends.mps.is_available() else \"cpu\")"
   ]
  },
  {
   "cell_type": "code",
   "execution_count": 3,
   "metadata": {},
   "outputs": [],
   "source": [
    "# Load context/reference images\n",
    "def load_reference_images(path):\n",
    "    label_map = {}\n",
    "    context_images, context_labels = [], []\n",
    "    \n",
    "    folders = sorted(os.listdir(path))\n",
    "    for label, folder in enumerate(folders):\n",
    "        folder_path = os.path.join(path, folder)\n",
    "        all_images = os.listdir(folder_path)\n",
    "        chosen = random.sample(all_images, NUM_CONTEXT_IMAGES + 1)  # +1 for extra test image\n",
    "        ref_imgs = chosen[:-1]\n",
    "        test_img = chosen[-1]\n",
    "\n",
    "        for img_name in ref_imgs:\n",
    "            img_path = os.path.join(folder_path, img_name)\n",
    "            img = Image.open(img_path).convert(\"RGB\")\n",
    "            context_images.append(img)\n",
    "            context_labels.append(label)\n",
    "\n",
    "        label_map[folder] = label\n",
    "\n",
    "    return context_images, context_labels, label_map, chosen"
   ]
  },
  {
   "cell_type": "code",
   "execution_count": 4,
   "metadata": {},
   "outputs": [],
   "source": [
    "# Pick a single test image (one left out per class)\n",
    "def pick_test_image(path, label_map, chosen):\n",
    "    all_images = []\n",
    "    all_labels = []\n",
    "    \n",
    "    for folder, label in label_map.items():\n",
    "        folder_path = os.path.join(path, folder)\n",
    "        images = [f for f in os.listdir(folder_path) if f not in chosen]\n",
    "        for img_name in images:\n",
    "            img_path = os.path.join(folder_path, img_name)\n",
    "            all_images.append(img_path)\n",
    "            all_labels.append(label)\n",
    "    \n",
    "    if all_images:\n",
    "        random_index = random.randint(0, len(all_images) - 1)\n",
    "        img_path = all_images[random_index]\n",
    "        label = all_labels[random_index]\n",
    "        img = Image.open(img_path).convert(\"RGB\")\n",
    "        return img, label"
   ]
  },
  {
   "cell_type": "code",
   "execution_count": 5,
   "metadata": {},
   "outputs": [
    {
     "name": "stderr",
     "output_type": "stream",
     "text": [
      "/Users/cowolff/miniconda3/envs/cwi/lib/python3.11/site-packages/torch/nn/modules/transformer.py:382: UserWarning: enable_nested_tensor is True, but self.use_nested_tensor is False because encoder_layer.norm_first was True\n",
      "  warnings.warn(\n"
     ]
    }
   ],
   "source": [
    "# or pull our pre-trained models from HuggingFace\n",
    "pictsure_model = PictSure.from_pretrained(\"pictsure/pictsure-vit\").to(DEVICE)"
   ]
  },
  {
   "cell_type": "code",
   "execution_count": 6,
   "metadata": {},
   "outputs": [
    {
     "ename": "AttributeError",
     "evalue": "'PictSure' object has no attribute 'device'",
     "output_type": "error",
     "traceback": [
      "\u001b[31m---------------------------------------------------------------------------\u001b[39m",
      "\u001b[31mAttributeError\u001b[39m                            Traceback (most recent call last)",
      "\u001b[36mCell\u001b[39m\u001b[36m \u001b[39m\u001b[32mIn[6]\u001b[39m\u001b[32m, line 10\u001b[39m\n\u001b[32m      8\u001b[39m     \u001b[38;5;28;01mwith\u001b[39;00m torch.no_grad():\n\u001b[32m      9\u001b[39m         pictsure_model.set_context_images(context_imgs, context_lbls)\n\u001b[32m---> \u001b[39m\u001b[32m10\u001b[39m         pred = \u001b[43mpictsure_model\u001b[49m\u001b[43m.\u001b[49m\u001b[43mpredict\u001b[49m\u001b[43m(\u001b[49m\u001b[43mtest_img\u001b[49m\u001b[43m)\u001b[49m\n\u001b[32m     12\u001b[39m     results.append((pred == test_lbl))\n\u001b[32m     14\u001b[39m accuracy = \u001b[38;5;28msum\u001b[39m(results) / \u001b[38;5;28mlen\u001b[39m(results) * \u001b[32m100\u001b[39m\n",
      "\u001b[36mFile \u001b[39m\u001b[32m~/miniconda3/envs/cwi/lib/python3.11/site-packages/PictSure/model_PictSure.py:172\u001b[39m, in \u001b[36mPictSure.predict\u001b[39m\u001b[34m(self, x_pred)\u001b[39m\n\u001b[32m    169\u001b[39m y_train = y_train.to(\u001b[38;5;28mself\u001b[39m.embedding.device)\n\u001b[32m    170\u001b[39m x_pred = x_pred.to(\u001b[38;5;28mself\u001b[39m.embedding.device)\n\u001b[32m--> \u001b[39m\u001b[32m172\u001b[39m output = \u001b[38;5;28;43mself\u001b[39;49m\u001b[43m.\u001b[49m\u001b[43mforward\u001b[49m\u001b[43m(\u001b[49m\u001b[43mx_train\u001b[49m\u001b[43m,\u001b[49m\u001b[43m \u001b[49m\u001b[43my_train\u001b[49m\u001b[43m,\u001b[49m\u001b[43m \u001b[49m\u001b[43mx_pred\u001b[49m\u001b[43m,\u001b[49m\u001b[43m \u001b[49m\u001b[43membedd\u001b[49m\u001b[43m=\u001b[49m\u001b[38;5;28;43;01mTrue\u001b[39;49;00m\u001b[43m)\u001b[49m\n\u001b[32m    174\u001b[39m pred = torch.argmax(output, dim=\u001b[32m1\u001b[39m)\n\u001b[32m    176\u001b[39m \u001b[38;5;28;01mreturn\u001b[39;00m pred.item()\n",
      "\u001b[36mFile \u001b[39m\u001b[32m~/miniconda3/envs/cwi/lib/python3.11/site-packages/PictSure/model_PictSure.py:210\u001b[39m, in \u001b[36mPictSure.forward\u001b[39m\u001b[34m(self, x_train, y_train, x_pred, embedd)\u001b[39m\n\u001b[32m    207\u001b[39m \u001b[38;5;66;03m# Applying the same projection to the prediction\u001b[39;00m\n\u001b[32m    208\u001b[39m x_pred_projected = \u001b[38;5;28mself\u001b[39m.x_projection(x_pred_embedded)  \u001b[38;5;66;03m# Shape: (batch, seq, projection_dim)\u001b[39;00m\n\u001b[32m--> \u001b[39m\u001b[32m210\u001b[39m y_pred_projected = torch.zeros_like(x_pred_projected, device=\u001b[38;5;28;43mself\u001b[39;49m\u001b[43m.\u001b[49m\u001b[43mdevice\u001b[49m) -\u001b[32m1\u001b[39m  \u001b[38;5;66;03m# Shape: (batch, seq, projection_dim)\u001b[39;00m\n\u001b[32m    212\u001b[39m \u001b[38;5;66;03m# Concatenate x_pred and y_pred projections\u001b[39;00m\n\u001b[32m    213\u001b[39m pred_combined_embedded = torch.cat([x_pred_projected, y_pred_projected], dim=-\u001b[32m1\u001b[39m)  \u001b[38;5;66;03m# Shape: (batch, seq, d_model)\u001b[39;00m\n",
      "\u001b[36mFile \u001b[39m\u001b[32m~/miniconda3/envs/cwi/lib/python3.11/site-packages/torch/nn/modules/module.py:1940\u001b[39m, in \u001b[36mModule.__getattr__\u001b[39m\u001b[34m(self, name)\u001b[39m\n\u001b[32m   1938\u001b[39m     \u001b[38;5;28;01mif\u001b[39;00m name \u001b[38;5;129;01min\u001b[39;00m modules:\n\u001b[32m   1939\u001b[39m         \u001b[38;5;28;01mreturn\u001b[39;00m modules[name]\n\u001b[32m-> \u001b[39m\u001b[32m1940\u001b[39m \u001b[38;5;28;01mraise\u001b[39;00m \u001b[38;5;167;01mAttributeError\u001b[39;00m(\n\u001b[32m   1941\u001b[39m     \u001b[33mf\u001b[39m\u001b[33m\"\u001b[39m\u001b[33m'\u001b[39m\u001b[38;5;132;01m{\u001b[39;00m\u001b[38;5;28mtype\u001b[39m(\u001b[38;5;28mself\u001b[39m).\u001b[34m__name__\u001b[39m\u001b[38;5;132;01m}\u001b[39;00m\u001b[33m'\u001b[39m\u001b[33m object has no attribute \u001b[39m\u001b[33m'\u001b[39m\u001b[38;5;132;01m{\u001b[39;00mname\u001b[38;5;132;01m}\u001b[39;00m\u001b[33m'\u001b[39m\u001b[33m\"\u001b[39m\n\u001b[32m   1942\u001b[39m )\n",
      "\u001b[31mAttributeError\u001b[39m: 'PictSure' object has no attribute 'device'"
     ]
    }
   ],
   "source": [
    "results = []\n",
    "for i in range(200):\n",
    "    # Load references and test image\n",
    "    context_imgs, context_lbls, label_map, chosen = load_reference_images(ROOT_DIR)\n",
    "    test_img, test_lbl = pick_test_image(ROOT_DIR, label_map, chosen)\n",
    "\n",
    "    # Predict\n",
    "    with torch.no_grad():\n",
    "        pictsure_model.set_context_images(context_imgs, context_lbls)\n",
    "        pred = pictsure_model.predict(test_img)\n",
    "\n",
    "    results.append((pred == test_lbl))\n",
    "\n",
    "accuracy = sum(results) / len(results) * 100\n",
    "print(f\"Accuracy over {len(results)} predictions: {accuracy:.1f}%\")"
   ]
  }
 ],
 "metadata": {
  "kernelspec": {
   "display_name": "cwi",
   "language": "python",
   "name": "python3"
  },
  "language_info": {
   "codemirror_mode": {
    "name": "ipython",
    "version": 3
   },
   "file_extension": ".py",
   "mimetype": "text/x-python",
   "name": "python",
   "nbconvert_exporter": "python",
   "pygments_lexer": "ipython3",
   "version": "3.11.8"
  }
 },
 "nbformat": 4,
 "nbformat_minor": 2
}
