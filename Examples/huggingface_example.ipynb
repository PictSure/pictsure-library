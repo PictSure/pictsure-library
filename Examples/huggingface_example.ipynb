{
 "cells": [
  {
   "cell_type": "code",
   "execution_count": 7,
   "id": "36c279c0",
   "metadata": {},
   "outputs": [],
   "source": [
    "from PictSure import PictSure\n",
    "from PIL import Image"
   ]
  },
  {
   "cell_type": "code",
   "execution_count": 8,
   "id": "0b407761",
   "metadata": {},
   "outputs": [],
   "source": [
    "# Load pre-trained model\n",
    "model = PictSure.from_pretrained(\"pictsure/pictsure-vit\").to(\"mps\")"
   ]
  },
  {
   "cell_type": "code",
   "execution_count": null,
   "id": "6cf3c956",
   "metadata": {},
   "outputs": [
    {
     "name": "stdout",
     "output_type": "stream",
     "text": [
      "Predicted class: 1\n"
     ]
    }
   ],
   "source": [
    "# Prepare context images and labels\n",
    "context_images = [\n",
    "    Image.open(\"CatsDogs/cat1.jpg\"),\n",
    "    Image.open(\"CatsDogs/cat2.jpg\"),\n",
    "    Image.open(\"CatsDogs/dog1.jpg\"),\n",
    "    Image.open(\"CatsDogs/dog2.jpg\")\n",
    "]\n",
    "context_labels = [0, 0, 1, 1]  # 0 for cat, 1 for dog\n",
    "\n",
    "# Set context\n",
    "model.set_context_images(context_images, context_labels)\n",
    "\n",
    "# Make prediction on new image\n",
    "test_image = Image.open(\"CatsDogs/query.jpg\")\n",
    "prediction = model.predict(test_image)\n",
    "print(f\"Predicted class: {prediction}, correct class: 1\")"
   ]
  }
 ],
 "metadata": {
  "kernelspec": {
   "display_name": "cwi",
   "language": "python",
   "name": "python3"
  },
  "language_info": {
   "codemirror_mode": {
    "name": "ipython",
    "version": 3
   },
   "file_extension": ".py",
   "mimetype": "text/x-python",
   "name": "python",
   "nbconvert_exporter": "python",
   "pygments_lexer": "ipython3",
   "version": "3.11.8"
  }
 },
 "nbformat": 4,
 "nbformat_minor": 5
}
